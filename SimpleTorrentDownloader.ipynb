{
  "nbformat": 4,
  "nbformat_minor": 0,
  "metadata": {
    "colab": {
      "name": "SimpleTorrentDownloader",
      "provenance": [],
      "collapsed_sections": []
    },
    "kernelspec": {
      "name": "python3",
      "display_name": "Python 3"
    },
    "language_info": {
      "name": "python"
    }
  },
  "cells": [
    {
      "cell_type": "code",
      "execution_count": null,
      "metadata": {
        "cellView": "form",
        "id": "GGoJ4TzGzvMB"
      },
      "outputs": [],
      "source": [
        "!pip install libtorrent\n",
        "\n",
        "import libtorrent as lt\n",
        "\n",
        "ses = lt.session()\n",
        "ses.listen_on(6881, 6891)\n",
        "\n",
        "#------\n",
        "\n",
        "from google.colab import drive\n",
        "\n",
        "drive.mount(\"/content/drive\")\n",
        "\n",
        "#@title Install"
      ]
    },
    {
      "cell_type": "code",
      "source": [
        "#@title Configuration { run: \"auto\" }\n",
        "#@markdown Chceck console output to see what files are downloaded\n",
        "type = 'Magnet' #@param [\"Magnet\", \"Torrent\"] {allow-input: false}\n",
        "magnet_link = \"\" #@param {type:\"string\"}\n",
        "\n",
        "downloads = []\n",
        "\n",
        "if type == \"Magnet\":\n",
        "  params = {\"save_path\": \"/content/drive/My Drive/Torrent\"}\n",
        "  downloads.append(lt.add_magnet_uri(ses, magnet_link, params))\n",
        "else:\n",
        "  from google.colab import files\n",
        "\n",
        "  source = files.upload()\n",
        "  params = {\n",
        "    \"save_path\": \"/content/drive/My Drive/Torrent\",\n",
        "    \"ti\": lt.torrent_info(list(source.keys())[0]),\n",
        "  }\n",
        "  downloads.append(ses.add_torrent(params))\n",
        "\n",
        "ses.start_dht()                \n",
        "\n",
        "handle = lt.add_magnet_uri(ses, magnet_link, params);\n",
        "\n",
        "while not handle.has_metadata():\n",
        "  time.sleep(1)          \n",
        "\n",
        "torinfo = handle.get_torrent_info()\n",
        "\n",
        "!pip install termcolor\n",
        "from termcolor import colored\n",
        "print(colored(\"THESE FILES WILL BE DOWNLOADED\", 'red'))\n",
        "\n",
        "for x in range(torinfo.files().num_files()):\n",
        "  print(colored(torinfo.files().file_path(x), 'red'))\n",
        "\n",
        "\n"
      ],
      "metadata": {
        "cellView": "form",
        "id": "ycdUea6nJ3AN"
      },
      "execution_count": null,
      "outputs": []
    },
    {
      "cell_type": "code",
      "source": [
        "#@title Download\n",
        "import time\n",
        "from IPython.display import display\n",
        "import ipywidgets as widgets\n",
        "\n",
        "state_str = [\n",
        "    \"queued\",\n",
        "    \"checking\",\n",
        "    \"downloading metadata\",\n",
        "    \"downloading\",\n",
        "    \"finished\",\n",
        "    \"seeding\",\n",
        "    \"allocating\",\n",
        "    \"checking fastresume\",\n",
        "]\n",
        "\n",
        "layout = widgets.Layout(width=\"auto\")\n",
        "style = {\"description_width\": \"initial\"}\n",
        "download_bars = [\n",
        "    widgets.FloatSlider(\n",
        "        step=0.01, disabled=True, layout=layout, style=style\n",
        "    )\n",
        "    for _ in downloads\n",
        "]\n",
        "display(*download_bars)\n",
        "\n",
        "while downloads:\n",
        "    next_shift = 0\n",
        "    for index, download in enumerate(downloads[:]):\n",
        "        bar = download_bars[index + next_shift]\n",
        "        if not download.is_seed():\n",
        "            s = download.status()\n",
        "\n",
        "            bar.description = \" \".join(\n",
        "                [\n",
        "                    download.name(),\n",
        "                    str(s.download_rate / 1000),\n",
        "                    \"kB/s\",\n",
        "                    state_str[s.state],\n",
        "                ]\n",
        "            )\n",
        "            bar.value = s.progress * 100\n",
        "        else:\n",
        "            next_shift -= 1\n",
        "            ses.remove_torrent(download)\n",
        "            downloads.remove(download)\n",
        "            bar.close() # Seems to be not working in Colab (see https://github.com/googlecolab/colabtools/issues/726#issue-486731758)\n",
        "            download_bars.remove(bar)\n",
        "            print(download.name(), \"complete\")\n",
        "    time.sleep(1)\n"
      ],
      "metadata": {
        "cellView": "form",
        "id": "-DB8jEtW2Kwo"
      },
      "execution_count": null,
      "outputs": []
    }
  ]
}